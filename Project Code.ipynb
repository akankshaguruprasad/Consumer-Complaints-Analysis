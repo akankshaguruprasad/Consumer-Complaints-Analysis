{
 "cells": [
  {
   "cell_type": "code",
   "execution_count": 1,
   "metadata": {},
   "outputs": [
    {
     "name": "stdout",
     "output_type": "stream",
     "text": [
      "Starting Spark application\n"
     ]
    },
    {
     "data": {
      "text/html": [
       "<table>\n",
       "<tr><th>ID</th><th>YARN Application ID</th><th>Kind</th><th>State</th><th>Spark UI</th><th>Driver log</th><th>Current session?</th></tr><tr><td>3</td><td>application_1557200512616_0005</td><td>pyspark3</td><td>idle</td><td><a target=\"_blank\" href=\"http://ip-172-31-41-80.us-east-2.compute.internal:20888/proxy/application_1557200512616_0005/\">Link</a></td><td><a target=\"_blank\" href=\"http://ip-172-31-40-215.us-east-2.compute.internal:8042/node/containerlogs/container_1557200512616_0005_01_000001/livy\">Link</a></td><td>✔</td></tr></table>"
      ],
      "text/plain": [
       "<IPython.core.display.HTML object>"
      ]
     },
     "metadata": {},
     "output_type": "display_data"
    },
    {
     "name": "stdout",
     "output_type": "stream",
     "text": [
      "SparkSession available as 'spark'.\n"
     ]
    }
   ],
   "source": [
    "from pyspark.sql.functions import *\n",
    "from pyspark.sql.types import *\n",
    "from pyspark.sql import *"
   ]
  },
  {
   "cell_type": "code",
   "execution_count": 2,
   "metadata": {},
   "outputs": [
    {
     "name": "stdout",
     "output_type": "stream",
     "text": [
      "+-------------------+-----------------------+-----------+\n",
      "|database           |tableName              |isTemporary|\n",
      "+-------------------+-----------------------+-----------+\n",
      "|customer_complaints|cust_complaints_all    |false      |\n",
      "|customer_complaints|cust_complaints_all_raw|false      |\n",
      "+-------------------+-----------------------+-----------+"
     ]
    }
   ],
   "source": [
    "spark.sql(\"show tables in customer_complaints\").show(5,False)"
   ]
  },
  {
   "cell_type": "code",
   "execution_count": 3,
   "metadata": {},
   "outputs": [],
   "source": [
    "df = spark.sql(\"select * from customer_complaints.cust_complaints_all\")"
   ]
  },
  {
   "cell_type": "code",
   "execution_count": 4,
   "metadata": {},
   "outputs": [
    {
     "name": "stdout",
     "output_type": "stream",
     "text": [
      "1274208"
     ]
    }
   ],
   "source": [
    "df.cache()\n",
    "df.count()"
   ]
  },
  {
   "cell_type": "code",
   "execution_count": 5,
   "metadata": {},
   "outputs": [
    {
     "name": "stdout",
     "output_type": "stream",
     "text": [
      "root\n",
      " |-- date_received: string (nullable = true)\n",
      " |-- product: string (nullable = true)\n",
      " |-- sub_product: string (nullable = true)\n",
      " |-- issue: string (nullable = true)\n",
      " |-- sub_issue: string (nullable = true)\n",
      " |-- consumer_complaint_narrative: string (nullable = true)\n",
      " |-- company_public_response: string (nullable = true)\n",
      " |-- company: string (nullable = true)\n",
      " |-- state: string (nullable = true)\n",
      " |-- zip_code: string (nullable = true)\n",
      " |-- tags: string (nullable = true)\n",
      " |-- consumer_consent_provided: string (nullable = true)\n",
      " |-- submitted_via: string (nullable = true)\n",
      " |-- date_sent_to_company: string (nullable = true)\n",
      " |-- company_response: string (nullable = true)\n",
      " |-- timely_response: string (nullable = true)\n",
      " |-- consumer_disputed: string (nullable = true)\n",
      " |-- complaint_id: string (nullable = true)"
     ]
    }
   ],
   "source": [
    "df.printSchema()"
   ]
  },
  {
   "cell_type": "code",
   "execution_count": 6,
   "metadata": {},
   "outputs": [],
   "source": [
    "dateFormat = \"MM/dd/yy\"\n",
    "df1 = df.withColumn(\"DateRecieved\",to_date(col(\"date_received\"), dateFormat))"
   ]
  },
  {
   "cell_type": "code",
   "execution_count": 7,
   "metadata": {},
   "outputs": [],
   "source": [
    "dfYear = df1.withColumn(\n",
    "  \"YearRecieved\",\n",
    "  year(col(\"DateRecieved\")))"
   ]
  },
  {
   "cell_type": "code",
   "execution_count": 8,
   "metadata": {},
   "outputs": [],
   "source": [
    "dfMonth = dfYear.withColumn(\n",
    "  \"MonthRecieved\",\n",
    "  month(col(\"DateRecieved\")))"
   ]
  },
  {
   "cell_type": "code",
   "execution_count": 9,
   "metadata": {},
   "outputs": [],
   "source": [
    "dfzip = dfMonth.withColumn('Zip', df.zip_code.substr(1, 3))"
   ]
  },
  {
   "cell_type": "code",
   "execution_count": 10,
   "metadata": {},
   "outputs": [],
   "source": [
    "df = dfzip.withColumn('Region', df.zip_code.substr(1, 1))"
   ]
  },
  {
   "cell_type": "code",
   "execution_count": 11,
   "metadata": {},
   "outputs": [],
   "source": [
    "dfcomplaints = df.where(col(\"Region\") != \"N\")\n",
    "dfcomplaints = dfcomplaints.where(col(\"Region\") != \"(\")\n",
    "dfcomplaints = dfcomplaints.where(col(\"Region\") != \"-\")\n",
    "dfcomplaints = dfcomplaints.where(col(\"Region\") != \"*\")"
   ]
  },
  {
   "cell_type": "code",
   "execution_count": 12,
   "metadata": {},
   "outputs": [],
   "source": [
    "dfcomplaints.createOrReplaceTempView(\"ComplaintsData\")"
   ]
  },
  {
   "cell_type": "code",
   "execution_count": 13,
   "metadata": {},
   "outputs": [
    {
     "name": "stdout",
     "output_type": "stream",
     "text": [
      "+------------+------+\n",
      "|YearRecieved| count|\n",
      "+------------+------+\n",
      "|        2011|  2536|\n",
      "|        2012| 72373|\n",
      "|        2013|108218|\n",
      "|        2014|153047|\n",
      "|        2015|168487|\n",
      "|        2016|191473|\n",
      "|        2017|242975|\n",
      "|        2018|257378|\n",
      "|        2019| 77721|\n",
      "+------------+------+"
     ]
    }
   ],
   "source": [
    "dfYear.groupBy(\"YearRecieved\")\\\n",
    ".count()\\\n",
    ".sort(\"YearRecieved\", ascending= True)\\\n",
    ".show()"
   ]
  },
  {
   "cell_type": "code",
   "execution_count": 14,
   "metadata": {},
   "outputs": [],
   "source": [
    "censusDF = spark.read.format(\"csv\")\\\n",
    ".option(\"header\", \"true\")\\\n",
    ".option(\"inferSchema\", \"true\")\\\n",
    ".load(\"s3://finalcomplaintdataset/Census Data.csv\")"
   ]
  },
  {
   "cell_type": "code",
   "execution_count": 15,
   "metadata": {},
   "outputs": [],
   "source": [
    "censusDF.createOrReplaceTempView(\"CensusData\")"
   ]
  },
  {
   "cell_type": "code",
   "execution_count": 16,
   "metadata": {},
   "outputs": [
    {
     "name": "stdout",
     "output_type": "stream",
     "text": [
      "+-----------+------+---+----------+--------------+--------+--------+--------+--------+--------+--------+--------+--------+--------+\n",
      "|      State|Region|Abv|    Census|Estimates Base|    2010|    2011|    2012|    2013|    2014|    2015|    2016|    2017|    2018|\n",
      "+-----------+------+---+----------+--------------+--------+--------+--------+--------+--------+--------+--------+--------+--------+\n",
      "|   .Alabama|     3| AL| 4,779,736|     4,780,138| 4785448| 4798834| 4815564| 4830460| 4842481| 4853160| 4864745| 4875120| 4887871|\n",
      "|    .Alaska|     9| AK|   710,231|       710,249|  713906|  722038|  730399|  737045|  736307|  737547|  741504|  739786|  737438|\n",
      "|   .Arizona|     8| AZ| 6,392,017|     6,392,288| 6407774| 6473497| 6556629| 6634999| 6733840| 6833596| 6945452| 7048876| 7171646|\n",
      "|  .Arkansas|     7| AR| 2,915,918|     2,916,028| 2921978| 2940407| 2952109| 2959549| 2967726| 2978407| 2990410| 3002997| 3013825|\n",
      "|.California|     9| CA|37,253,956|    37,254,523|37320903|37641823|37960782|38280824|38625139|38953142|39209127|39399349|39557045|\n",
      "+-----------+------+---+----------+--------------+--------+--------+--------+--------+--------+--------+--------+--------+--------+\n",
      "only showing top 5 rows\n",
      "\n",
      "None\n",
      "root\n",
      " |-- State: string (nullable = true)\n",
      " |-- Region: integer (nullable = true)\n",
      " |-- Abv: string (nullable = true)\n",
      " |-- Census: string (nullable = true)\n",
      " |-- Estimates Base: string (nullable = true)\n",
      " |-- 2010: integer (nullable = true)\n",
      " |-- 2011: integer (nullable = true)\n",
      " |-- 2012: integer (nullable = true)\n",
      " |-- 2013: integer (nullable = true)\n",
      " |-- 2014: integer (nullable = true)\n",
      " |-- 2015: integer (nullable = true)\n",
      " |-- 2016: integer (nullable = true)\n",
      " |-- 2017: integer (nullable = true)\n",
      " |-- 2018: integer (nullable = true)\n",
      "\n",
      "None"
     ]
    }
   ],
   "source": [
    "print(censusDF.show(5))\n",
    "print(censusDF.printSchema())"
   ]
  },
  {
   "cell_type": "code",
   "execution_count": 17,
   "metadata": {},
   "outputs": [
    {
     "name": "stdout",
     "output_type": "stream",
     "text": [
      "+------+------------+-----+----------+\n",
      "|Region|YearRecieved|Count|percentage|\n",
      "+------+------------+-----+----------+\n",
      "|     0|        2011|  261|      0.02|\n",
      "|     0|        2012| 7414|      0.64|\n",
      "|     0|        2013| 9852|      0.85|\n",
      "|     0|        2014|13344|      1.15|\n",
      "|     0|        2015|12568|      1.08|\n",
      "|     0|        2016|13258|      1.14|\n",
      "|     0|        2017|14996|      1.29|\n",
      "|     0|        2018|15080|      1.30|\n",
      "|     0|        2019| 4300|      0.37|\n",
      "|     1|        2011|  310|      0.03|\n",
      "|     1|        2012| 8297|      0.72|\n",
      "|     1|        2013|11927|      1.03|\n",
      "|     1|        2014|16517|      1.42|\n",
      "|     1|        2015|16853|      1.45|\n",
      "|     1|        2016|18429|      1.59|\n",
      "|     1|        2017|20999|      1.81|\n",
      "|     1|        2018|23659|      2.04|\n",
      "|     1|        2019| 7098|      0.61|\n",
      "|     2|        2011|  267|      0.02|\n",
      "|     2|        2012| 8030|      0.69|\n",
      "|     2|        2013|12320|      1.06|\n",
      "|     2|        2014|17551|      1.51|\n",
      "|     2|        2015|17659|      1.52|\n",
      "|     2|        2016|19227|      1.66|\n",
      "|     2|        2017|24427|      2.11|\n",
      "|     2|        2018|24808|      2.14|\n",
      "|     2|        2019| 6906|      0.60|\n",
      "|     3|        2011|  406|      0.03|\n",
      "|     3|        2012|12131|      1.05|\n",
      "|     3|        2013|18530|      1.60|\n",
      "|     3|        2014|25593|      2.21|\n",
      "|     3|        2015|26817|      2.31|\n",
      "|     3|        2016|31490|      2.71|\n",
      "|     3|        2017|41252|      3.56|\n",
      "|     3|        2018|45893|      3.96|\n",
      "|     3|        2019|15084|      1.30|\n",
      "|     4|        2011|  172|      0.01|\n",
      "|     4|        2012| 5769|      0.50|\n",
      "|     4|        2013| 8370|      0.72|\n",
      "|     4|        2014|11539|      0.99|\n",
      "|     4|        2015|11215|      0.97|\n",
      "|     4|        2016|11385|      0.98|\n",
      "|     4|        2017|15135|      1.30|\n",
      "|     4|        2018|15150|      1.31|\n",
      "|     4|        2019| 4425|      0.38|\n",
      "|     5|        2011|   97|      0.01|\n",
      "|     5|        2012| 2321|      0.20|\n",
      "|     5|        2013| 3258|      0.28|\n",
      "|     5|        2014| 4726|      0.41|\n",
      "|     5|        2015| 4392|      0.38|\n",
      "|     5|        2016| 4751|      0.41|\n",
      "|     5|        2017| 5859|      0.51|\n",
      "|     5|        2018| 5138|      0.44|\n",
      "|     5|        2019| 1508|      0.13|\n",
      "|     6|        2011|  134|      0.01|\n",
      "|     6|        2012| 4116|      0.35|\n",
      "|     6|        2013| 5830|      0.50|\n",
      "|     6|        2014| 8702|      0.75|\n",
      "|     6|        2015| 8798|      0.76|\n",
      "|     6|        2016|10280|      0.89|\n",
      "|     6|        2017|13476|      1.16|\n",
      "|     6|        2018|15077|      1.30|\n",
      "|     6|        2019| 3955|      0.34|\n",
      "|     7|        2011|  178|      0.02|\n",
      "|     7|        2012| 4796|      0.41|\n",
      "|     7|        2013| 9128|      0.79|\n",
      "|     7|        2014|16549|      1.43|\n",
      "|     7|        2015|15708|      1.35|\n",
      "|     7|        2016|17971|      1.55|\n",
      "|     7|        2017|25501|      2.20|\n",
      "|     7|        2018|27434|      2.36|\n",
      "|     7|        2019| 8227|      0.71|\n",
      "|     8|        2011|  146|      0.01|\n",
      "|     8|        2012| 4601|      0.40|\n",
      "|     8|        2013| 6965|      0.60|\n",
      "|     8|        2014|10127|      0.87|\n",
      "|     8|        2015|10782|      0.93|\n",
      "|     8|        2016|12172|      1.05|\n",
      "|     8|        2017|13662|      1.18|\n",
      "|     8|        2018|13937|      1.20|\n",
      "|     8|        2019| 4398|      0.38|\n",
      "|     9|        2011|  550|      0.05|\n",
      "|     9|        2012|14283|      1.23|\n",
      "|     9|        2013|20983|      1.81|\n",
      "|     9|        2014|27394|      2.36|\n",
      "|     9|        2015|28680|      2.47|\n",
      "|     9|        2016|31873|      2.75|\n",
      "|     9|        2017|37095|      3.20|\n",
      "|     9|        2018|37055|      3.19|\n",
      "|     9|        2019|10804|      0.93|\n",
      "+------+------------+-----+----------+"
     ]
    }
   ],
   "source": [
    "spark.sql(\"select Region, YearRecieved, count(*) as Count,  round(count(*) * 100.0/ sum(count(*)) over (), 2) as percentage \\\n",
    "                       from complaintsdata group by Region, YearRecieved order by Region asc, YearRecieved asc\").show(100)"
   ]
  },
  {
   "cell_type": "code",
   "execution_count": 19,
   "metadata": {},
   "outputs": [],
   "source": [
    "%%sql -q -n 100 -o RegionCount \n",
    "select Region, count(*) as Count from complaintsdata group by Region"
   ]
  },
  {
   "cell_type": "code",
   "execution_count": 20,
   "metadata": {},
   "outputs": [
    {
     "data": {
      "application/vnd.jupyter.widget-view+json": {
       "model_id": "4f81122ddcba4707a56ab68b729f0351",
       "version_major": 2,
       "version_minor": 0
      },
      "text/plain": [
       "VBox(children=(HBox(children=(HTML(value='Type:'), Button(description='Table', layout=Layout(width='70px'), st…"
      ]
     },
     "metadata": {},
     "output_type": "display_data"
    },
    {
     "data": {
      "application/vnd.jupyter.widget-view+json": {
       "model_id": "8e181fb52ee347abbd4bbfe2fc6b8601",
       "version_major": 2,
       "version_minor": 0
      },
      "text/plain": [
       "Output()"
      ]
     },
     "metadata": {},
     "output_type": "display_data"
    }
   ],
   "source": [
    "%%local RegionCount.head(10)"
   ]
  },
  {
   "cell_type": "code",
   "execution_count": 21,
   "metadata": {},
   "outputs": [
    {
     "name": "stdout",
     "output_type": "stream",
     "text": [
      "+------+----------------+------+--------------------+\n",
      "|Region|No-of-Complaints|Region|Estimated-Population|\n",
      "+------+----------------+------+--------------------+\n",
      "|     5|           32050|     5|            17285509|\n",
      "|     8|           76790|     8|            23490080|\n",
      "|     6|           70368|     6|            23708305|\n",
      "|     0|           91073|     0|            23761810|\n",
      "|     2|          131195|     2|            32536437|\n",
      "|     4|           83160|     4|            32845637|\n",
      "|     1|          124089|     1|            33316440|\n",
      "|     7|          125492|     7|            40318727|\n",
      "|     3|          217196|     3|            46463211|\n",
      "|     9|          208717|     9|            53441278|\n",
      "+------+----------------+------+--------------------+"
     ]
    }
   ],
   "source": [
    "RegionDF = dfcomplaints.groupBy(\"Region\").agg(count(\"complaint_id\").alias(\"No-of-Complaints\"))\n",
    "RegCenDF = censusDF.groupBy(\"Region\").agg(sum(\"2018\").alias(\"Estimated-Population\"))\n",
    "joinType = \"inner\"\n",
    "joinExpression = RegionDF[\"Region\"] == censusDF['Region']\n",
    "RegionDF.join(RegCenDF, joinExpression, joinType).sort(\"Estimated-Population\").show()"
   ]
  },
  {
   "cell_type": "code",
   "execution_count": 22,
   "metadata": {},
   "outputs": [],
   "source": [
    "%%sql -q -n 100 -o StateCount \n",
    "select State, count(*) as Count \n",
    "from complaintsdata group by State order by Count desc limit 10"
   ]
  },
  {
   "cell_type": "code",
   "execution_count": 23,
   "metadata": {},
   "outputs": [
    {
     "data": {
      "application/vnd.jupyter.widget-view+json": {
       "model_id": "8247f40d54724403a0b9b5bc15fe11ba",
       "version_major": 2,
       "version_minor": 0
      },
      "text/plain": [
       "VBox(children=(HBox(children=(HTML(value='Type:'), Button(description='Table', layout=Layout(width='70px'), st…"
      ]
     },
     "metadata": {},
     "output_type": "display_data"
    },
    {
     "data": {
      "application/vnd.jupyter.widget-view+json": {
       "model_id": "ca50ec474ed44fa0901d88d6e5eec5f1",
       "version_major": 2,
       "version_minor": 0
      },
      "text/plain": [
       "Output()"
      ]
     },
     "metadata": {},
     "output_type": "display_data"
    }
   ],
   "source": [
    "%%local StateCount.head(10)"
   ]
  },
  {
   "cell_type": "code",
   "execution_count": 24,
   "metadata": {},
   "outputs": [],
   "source": [
    "StateDF = dfcomplaints.groupBy(\"State\").agg(count(\"complaint_id\").alias(\"No-of-Complaints\"))\n",
    "stateCensDF = censusDF.withColumn(\"CA\", col(\"Abv\") == \"CA\")\n",
    "stateCensDF = stateCensDF.withColumn(\"FL\",col(\"Abv\") == \"FL\")\n",
    "stateCensDF = stateCensDF.withColumn(\"TX\",col(\"Abv\") == \"TX\")\n",
    "stateCensDF = stateCensDF.withColumn(\"NY\",col(\"Abv\") == \"NY\")\n",
    "stateCensDF = stateCensDF.withColumn(\"GA\",col(\"Abv\") == \"GA\")\n",
    "stateCensDF = stateCensDF.withColumn(\"IL\",col(\"Abv\") == \"IL\")\n",
    "stateCensDF = stateCensDF.withColumn(\"NJ\",col(\"Abv\") == \"NJ\")\n",
    "stateCensDF = stateCensDF.withColumn(\"PA\",col(\"Abv\") == \"PA\")\n",
    "stateCensDF = stateCensDF.withColumn(\"NC\",col(\"Abv\") == \"NC\")\n",
    "stateCensDF = stateCensDF.withColumn(\"OH\",col(\"Abv\") == \"OH\")\n",
    "StateCenDF = stateCensDF.select(\"Abv\", \"2018\").where(\"CA or FL or TX or NY or GA or NJ or PA or NC or OH\")\n"
   ]
  },
  {
   "cell_type": "code",
   "execution_count": 25,
   "metadata": {},
   "outputs": [
    {
     "name": "stdout",
     "output_type": "stream",
     "text": [
      "+-----+----------------+---+--------+\n",
      "|State|No-of-Complaints|Abv|    2018|\n",
      "+-----+----------------+---+--------+\n",
      "|   NJ|           43214| NJ| 8908520|\n",
      "|   NC|           36349| NC|10383620|\n",
      "|   GA|           63036| GA|10519475|\n",
      "|   OH|           34829| OH|11689442|\n",
      "|   PA|           38621| PA|12807060|\n",
      "|   NY|           79812| NY|19542209|\n",
      "|   FL|          117108| FL|21299325|\n",
      "|   TX|           99956| TX|28701845|\n",
      "|   CA|          168694| CA|39557045|\n",
      "+-----+----------------+---+--------+"
     ]
    }
   ],
   "source": [
    "joinType = \"inner\"\n",
    "joinExpression = StateDF[\"State\"] == StateCenDF['Abv']\n",
    "StateDF.join(StateCenDF, joinExpression, joinType).sort(\"2018\").show()"
   ]
  },
  {
   "cell_type": "code",
   "execution_count": 26,
   "metadata": {},
   "outputs": [
    {
     "name": "stdout",
     "output_type": "stream",
     "text": [
      "+--------------------------------------+------+----------+\n",
      "|company                               |Count |percentage|\n",
      "+--------------------------------------+------+----------+\n",
      "|EQUIFAX, INC.                         |104879|9.04      |\n",
      "|Experian Information Solutions Inc.   |94296 |8.13      |\n",
      "|TRANSUNION INTERMEDIATE HOLDINGS, INC.|87084 |7.51      |\n",
      "|BANK OF AMERICA, NATIONAL ASSOCIATION |77420 |6.67      |\n",
      "|WELLS FARGO & COMPANY                 |65817 |5.67      |\n",
      "|JPMORGAN CHASE & CO.                  |55759 |4.81      |\n",
      "|CITIBANK, N.A.                        |44860 |3.87      |\n",
      "|CAPITAL ONE FINANCIAL CORPORATION     |31361 |2.70      |\n",
      "|OCWEN LOAN SERVICING LLC              |26266 |2.26      |\n",
      "|Navient Solutions, LLC.               |25304 |2.18      |\n",
      "+--------------------------------------+------+----------+"
     ]
    }
   ],
   "source": [
    "spark.sql(\"select company, count(*) as Count, round(count(*) * 100.0/ sum(count(*)) over (),2) as percentage \\\n",
    "from complaintsdata \\\n",
    "group by company \\\n",
    "order by Count desc limit 10\").show(10,False)"
   ]
  },
  {
   "cell_type": "code",
   "execution_count": 27,
   "metadata": {},
   "outputs": [
    {
     "name": "stdout",
     "output_type": "stream",
     "text": [
      "+--------------------------------------------------------------------------------+-----+----------+\n",
      "|issue                                                                           |Count|percentage|\n",
      "+--------------------------------------------------------------------------------+-----+----------+\n",
      "|Incorrect information on credit report                                          |32521|31.01     |\n",
      "|Incorrect information on your report                                            |31155|29.71     |\n",
      "|Problem with a credit reporting company's investigation into an existing problem|12401|11.82     |\n",
      "|Improper use of your report                                                     |10082|9.61      |\n",
      "|Credit reporting company's investigation                                        |5733 |5.47      |\n",
      "|Unable to get credit report/credit score                                        |4192 |4.00      |\n",
      "|Unable to get your credit report or credit score                                |1652 |1.58      |\n",
      "|Problem with fraud alerts or security freezes                                   |1573 |1.50      |\n",
      "|Improper use of my credit report                                                |1572 |1.50      |\n",
      "|Credit monitoring or identity protection                                        |1295 |1.23      |\n",
      "+--------------------------------------------------------------------------------+-----+----------+"
     ]
    }
   ],
   "source": [
    "spark.sql(\"select issue, count(*) as Count, round(count(*) * 100.0/ sum(count(*)) over (),2) as percentage \\\n",
    "from complaintsdata \\\n",
    "where company = 'EQUIFAX, INC.' \\\n",
    "group by issue \\\n",
    "order by Count desc limit 10\").show(10, False)"
   ]
  },
  {
   "cell_type": "code",
   "execution_count": 28,
   "metadata": {},
   "outputs": [
    {
     "name": "stdout",
     "output_type": "stream",
     "text": [
      "+--------------------------------------------------------------------------------+------+----------+\n",
      "|issue                                                                           |Count |percentage|\n",
      "+--------------------------------------------------------------------------------+------+----------+\n",
      "|Incorrect information on your report                                            |118363|10.20     |\n",
      "|Loan modification,collection,foreclosure                                        |108392|9.34      |\n",
      "|Incorrect information on credit report                                          |97432 |8.40      |\n",
      "|Loan servicing, payments, escrow account                                        |72909 |6.28      |\n",
      "|Cont'd attempts collect debt not owed                                           |56404 |4.86      |\n",
      "|Problem with a credit reporting company's investigation into an existing problem|44187 |3.81      |\n",
      "|Attempts to collect debt not owed                                               |36973 |3.19      |\n",
      "|Account opening, closing, or management                                         |35636 |3.07      |\n",
      "|Communication tactics                                                           |31515 |2.72      |\n",
      "|Improper use of your report                                                     |29200 |2.52      |\n",
      "+--------------------------------------------------------------------------------+------+----------+"
     ]
    }
   ],
   "source": [
    "spark.sql(\"select issue, count(*) as Count, round(count(*) * 100.0/ sum(count(*)) over (),2) as percentage \\\n",
    "from complaintsdata \\\n",
    "group by issue \\\n",
    "order by Count desc limit 10\").show(10, False)"
   ]
  },
  {
   "cell_type": "code",
   "execution_count": 29,
   "metadata": {},
   "outputs": [],
   "source": [
    "%%sql -q -n 100 -o ProductCount \n",
    "select product, count(*) as Count \n",
    "from complaintsdata group by product limit 10"
   ]
  },
  {
   "cell_type": "code",
   "execution_count": 30,
   "metadata": {},
   "outputs": [
    {
     "data": {
      "application/vnd.jupyter.widget-view+json": {
       "model_id": "b0698c370de4466ab6c495aabdfa36e8",
       "version_major": 2,
       "version_minor": 0
      },
      "text/plain": [
       "VBox(children=(HBox(children=(HTML(value='Type:'), Button(description='Table', layout=Layout(width='70px'), st…"
      ]
     },
     "metadata": {},
     "output_type": "display_data"
    },
    {
     "data": {
      "application/vnd.jupyter.widget-view+json": {
       "model_id": "aa6689d432724fc2bcd7e3f0f0d6c39f",
       "version_major": 2,
       "version_minor": 0
      },
      "text/plain": [
       "Output()"
      ]
     },
     "metadata": {},
     "output_type": "display_data"
    }
   ],
   "source": [
    "%%local ProductCount.head(10)"
   ]
  },
  {
   "cell_type": "code",
   "execution_count": 31,
   "metadata": {},
   "outputs": [],
   "source": [
    "%%sql -q -n 100 -o TimelyCount \n",
    "select timely_response, count(*) as Count \n",
    "from complaintsdata group by timely_response order by Count desc"
   ]
  },
  {
   "cell_type": "code",
   "execution_count": 32,
   "metadata": {},
   "outputs": [
    {
     "data": {
      "application/vnd.jupyter.widget-view+json": {
       "model_id": "0639c416abb04565bad8ad912c4cf0cf",
       "version_major": 2,
       "version_minor": 0
      },
      "text/plain": [
       "VBox(children=(HBox(children=(HTML(value='Type:'), Button(description='Table', layout=Layout(width='70px'), st…"
      ]
     },
     "metadata": {},
     "output_type": "display_data"
    },
    {
     "data": {
      "application/vnd.jupyter.widget-view+json": {
       "model_id": "00b197c060b6449d8e984476264ae320",
       "version_major": 2,
       "version_minor": 0
      },
      "text/plain": [
       "Output()"
      ]
     },
     "metadata": {},
     "output_type": "display_data"
    }
   ],
   "source": [
    "%%local TimelyCount.head(10)"
   ]
  },
  {
   "cell_type": "code",
   "execution_count": 33,
   "metadata": {},
   "outputs": [
    {
     "name": "stdout",
     "output_type": "stream",
     "text": [
      "+-------------------------------------+-----+\n",
      "|company                              |Count|\n",
      "+-------------------------------------+-----+\n",
      "|WELLS FARGO & COMPANY                |2894 |\n",
      "|BANK OF AMERICA, NATIONAL ASSOCIATION|1569 |\n",
      "|EQUIFAX, INC.                        |1464 |\n",
      "|OCWEN LOAN SERVICING LLC             |525  |\n",
      "|Colony Brands, Inc.                  |359  |\n",
      "|CITIBANK, N.A.                       |352  |\n",
      "|Mobiloans, LLC                       |337  |\n",
      "|Southwest Credit Systems, L.P.       |271  |\n",
      "|Midwest Recovery Systems             |207  |\n",
      "|Residential Credit Solutions, Inc.   |171  |\n",
      "+-------------------------------------+-----+"
     ]
    }
   ],
   "source": [
    "spark.sql(\"select company, count(*) as Count \\\n",
    "from complaintsdata \\\n",
    "where timely_response = 'No' \\\n",
    "group by company \\\n",
    "order by Count desc limit 10\").show(10,False)"
   ]
  },
  {
   "cell_type": "code",
   "execution_count": 34,
   "metadata": {},
   "outputs": [
    {
     "name": "stdout",
     "output_type": "stream",
     "text": [
      "+---------------------+----------------------------------------------------------------------------+-----+\n",
      "|company              |product                                                                     |Count|\n",
      "+---------------------+----------------------------------------------------------------------------+-----+\n",
      "|WELLS FARGO & COMPANY|Bank account or service                                                     |1379 |\n",
      "|WELLS FARGO & COMPANY|Consumer Loan                                                               |369  |\n",
      "|WELLS FARGO & COMPANY|Credit card                                                                 |293  |\n",
      "|WELLS FARGO & COMPANY|Checking or savings account                                                 |177  |\n",
      "|WELLS FARGO & COMPANY|Debt collection                                                             |153  |\n",
      "|WELLS FARGO & COMPANY|Vehicle loan or lease                                                       |143  |\n",
      "|WELLS FARGO & COMPANY|Mortgage                                                                    |104  |\n",
      "|WELLS FARGO & COMPANY|Credit reporting, credit repair services, or other personal consumer reports|84   |\n",
      "|WELLS FARGO & COMPANY|Credit card or prepaid card                                                 |58   |\n",
      "|WELLS FARGO & COMPANY|Money transfers                                                             |37   |\n",
      "+---------------------+----------------------------------------------------------------------------+-----+"
     ]
    }
   ],
   "source": [
    "spark.sql(\"select company, product, count(*) as Count \\\n",
    "from complaintsdata \\\n",
    "where timely_response = 'No' and company  = 'WELLS FARGO & COMPANY'\\\n",
    "group by company, product \\\n",
    "order by Count desc limit 10\").show(10,False)"
   ]
  },
  {
   "cell_type": "code",
   "execution_count": 35,
   "metadata": {},
   "outputs": [],
   "source": [
    "%%sql -q -n 100 -o SubmitCount \n",
    "select submitted_via, count(*) as Count \n",
    "from complaintsdata group by submitted_via order by Count desc"
   ]
  },
  {
   "cell_type": "code",
   "execution_count": 36,
   "metadata": {},
   "outputs": [
    {
     "data": {
      "application/vnd.jupyter.widget-view+json": {
       "model_id": "652a63849b7b466abbd10d590596073a",
       "version_major": 2,
       "version_minor": 0
      },
      "text/plain": [
       "VBox(children=(HBox(children=(HTML(value='Type:'), Button(description='Table', layout=Layout(width='70px'), st…"
      ]
     },
     "metadata": {},
     "output_type": "display_data"
    },
    {
     "data": {
      "application/vnd.jupyter.widget-view+json": {
       "model_id": "ab97effae48c4596b779951fc6a70ac3",
       "version_major": 2,
       "version_minor": 0
      },
      "text/plain": [
       "Output()"
      ]
     },
     "metadata": {},
     "output_type": "display_data"
    }
   ],
   "source": [
    "%%local SubmitCount.head(10)"
   ]
  },
  {
   "cell_type": "code",
   "execution_count": 37,
   "metadata": {},
   "outputs": [
    {
     "name": "stdout",
     "output_type": "stream",
     "text": [
      "+------------+-----+----------+\n",
      "|DateRecieved|Count|percentage|\n",
      "+------------+-----+----------+\n",
      "|  2017-09-08| 3118|      0.27|\n",
      "|  2017-09-09| 2397|      0.21|\n",
      "|  2017-01-19| 1808|      0.16|\n",
      "|  2017-01-20| 1432|      0.12|\n",
      "|  2017-09-13| 1365|      0.12|\n",
      "|  2018-04-05| 1154|      0.10|\n",
      "|  2017-09-12| 1072|      0.09|\n",
      "|  2018-04-10| 1041|      0.09|\n",
      "|  2018-04-24| 1017|      0.09|\n",
      "|  2017-09-14|  988|      0.09|\n",
      "+------------+-----+----------+"
     ]
    }
   ],
   "source": [
    "spark.sql(\"select DateRecieved, count(*) as Count, round(count(*) * 100.0/ sum(count(*)) over (),2) as percentage \\\n",
    "from complaintsdata \\\n",
    "group by DateRecieved \\\n",
    "order by Count desc limit 10\").show(10)"
   ]
  },
  {
   "cell_type": "code",
   "execution_count": 38,
   "metadata": {},
   "outputs": [
    {
     "name": "stdout",
     "output_type": "stream",
     "text": [
      "+---------+-----+----------+\n",
      "|YearMonth|Count|percentage|\n",
      "+---------+-----+----------+\n",
      "|   2017/9|23754|      2.05|\n",
      "|   2018/4|21466|      1.85|\n",
      "|   2018/3|20714|      1.79|\n",
      "|   2018/1|20493|      1.77|\n",
      "|   2019/3|19957|      1.72|\n",
      "|   2018/5|19444|      1.68|\n",
      "|   2018/2|19180|      1.65|\n",
      "|  2018/10|18801|      1.62|\n",
      "|   2018/8|18765|      1.62|\n",
      "|   2017/8|18678|      1.61|\n",
      "+---------+-----+----------+"
     ]
    }
   ],
   "source": [
    "spark.sql(\"select concat(YearRecieved,'/', MonthRecieved) as YearMonth, count(*) as Count, round(count(*) * 100.0/ sum(count(*)) over (),2) as percentage \\\n",
    "from complaintsdata \\\n",
    "group by YearRecieved, MonthRecieved \\\n",
    "order by Count desc limit 10\").show(10)"
   ]
  },
  {
   "cell_type": "code",
   "execution_count": 39,
   "metadata": {},
   "outputs": [],
   "source": [
    "MortgageDF = spark.read.format(\"csv\")\\\n",
    ".option(\"header\", \"true\")\\\n",
    ".option(\"inferSchema\", \"true\")\\\n",
    ".load(\"s3://finalcomplaintdataset/Mortgage Database.csv\")"
   ]
  },
  {
   "cell_type": "code",
   "execution_count": 40,
   "metadata": {},
   "outputs": [
    {
     "name": "stdout",
     "output_type": "stream",
     "text": [
      "root\n",
      " |-- HUD PROJECT NUMBER: integer (nullable = true)\n",
      " |-- PREMISE ID: integer (nullable = true)\n",
      " |-- PROPERTY NAME: string (nullable = true)\n",
      " |-- PROPERTY STREET: string (nullable = true)\n",
      " |-- PROPERTY CITY: string (nullable = true)\n",
      " |-- PROPERTY STATE: string (nullable = true)\n",
      " |-- PROPERTY ZIP: integer (nullable = true)\n",
      " |-- UNITS: integer (nullable = true)\n",
      " |-- INITIAL ENDORSEMENT DATE: string (nullable = true)\n",
      " |-- FINAL ENDORSEMENT DATE: string (nullable = true)\n",
      " |-- ORIGINAL MORTGAGE AMOUNT: string (nullable = true)\n",
      " |-- FIRST PAYMENT DATE: string (nullable = true)\n",
      " |-- MATURITY DATE: string (nullable = true)\n",
      " |-- TERM IN MONTHS: integer (nullable = true)\n",
      " |-- INTEREST RATE: double (nullable = true)\n",
      " |-- CURRENT PRINCIPAL AND INTEREST: string (nullable = true)\n",
      " |-- AMORTIZED PRINCIPAL BALANCE: string (nullable = true)\n",
      " |-- HOLDER NAME: string (nullable = true)\n",
      " |-- HOLDER CITY: string (nullable = true)\n",
      " |-- HOLDER STATE: string (nullable = true)\n",
      " |-- SERVICER NAME: string (nullable = true)\n",
      " |-- SERVICER CITY: string (nullable = true)\n",
      " |-- SERVICER STATE: string (nullable = true)\n",
      " |-- SECTION OF ACT CODE: string (nullable = true)\n",
      " |-- SOA CATEGORY/SUB CATEGORY: string (nullable = true)\n",
      " |-- TE: string (nullable = true)\n",
      " |-- TC: string (nullable = true)"
     ]
    }
   ],
   "source": [
    "MortgageDF.printSchema()"
   ]
  },
  {
   "cell_type": "code",
   "execution_count": 41,
   "metadata": {},
   "outputs": [
    {
     "name": "stdout",
     "output_type": "stream",
     "text": [
      "+---------------------+--------+--------------------------+-----+------------+\n",
      "|company              |product |sub_product               |state|complaint_id|\n",
      "+---------------------+--------+--------------------------+-----+------------+\n",
      "|WELLS FARGO & COMPANY|Mortgage|Conventional home mortgage|GA   |2870272     |\n",
      "|WELLS FARGO & COMPANY|Mortgage|Conventional home mortgage|IL   |2869468     |\n",
      "|WELLS FARGO & COMPANY|Mortgage|Conventional home mortgage|OH   |2868867     |\n",
      "+---------------------+--------+--------------------------+-----+------------+\n",
      "only showing top 3 rows"
     ]
    }
   ],
   "source": [
    "containsWellsFargo = instr(col(\"company\"), \"WELLS FARGO\") >= 1\n",
    "containsMortgage = instr(col(\"product\"), \"Mortgage\") >= 1\n",
    "containsYear = instr(col(\"YearRecieved\"), \"2018\") >= 1\n",
    "\n",
    "WellsFargoMortgage = dfcomplaints.withColumn(\"WellsFargoMortgage\", containsWellsFargo & containsMortgage & containsYear)\\\n",
    ".where(\"WellsFargoMortgage\")\\\n",
    ".select([\"company\",\"product\",\"sub_product\",\"state\", \"complaint_id\"]).show(3, False)"
   ]
  },
  {
   "cell_type": "code",
   "execution_count": 42,
   "metadata": {},
   "outputs": [
    {
     "name": "stdout",
     "output_type": "stream",
     "text": [
      "+-----+----------------+\n",
      "|state|No-of-Complaints|\n",
      "+-----+----------------+\n",
      "|   CA|             454|\n",
      "|   FL|             259|\n",
      "|   NY|             225|\n",
      "|   TX|             183|\n",
      "|   NJ|             150|\n",
      "|   GA|             121|\n",
      "|   PA|             118|\n",
      "|   VA|             100|\n",
      "|   MD|              91|\n",
      "|   IL|              80|\n",
      "+-----+----------------+\n",
      "only showing top 10 rows"
     ]
    }
   ],
   "source": [
    "dfcomplaints.withColumn(\"WellsFargoMortgage\", containsWellsFargo & containsMortgage & containsYear)\\\n",
    ".where(\"WellsFargoMortgage\").groupBy(\"state\").agg(count(\"complaint_id\").alias(\"No-of-Complaints\"))\\\n",
    ".sort(\"No-of-Complaints\",ascending = False).show(10)"
   ]
  },
  {
   "cell_type": "code",
   "execution_count": 43,
   "metadata": {},
   "outputs": [
    {
     "name": "stdout",
     "output_type": "stream",
     "text": [
      "+--------------+---------------+\n",
      "|SERVICER STATE|No-of-Mortgages|\n",
      "+--------------+---------------+\n",
      "|            VA|            984|\n",
      "|            WI|              7|\n",
      "+--------------+---------------+"
     ]
    }
   ],
   "source": [
    "containsWellsFargoM = instr(col(\"SERVICER NAME\"), \"WELLS FARGO\") >= 1\n",
    "\n",
    "MortgageDF.withColumn(\"WellsFargoMortgage\", containsWellsFargoM ).where(\"WellsFargoMortgage\")\\\n",
    ".groupBy(\"SERVICER STATE\").agg(count(\"HUD PROJECT NUMBER\").alias(\"No-of-Mortgages\")).show(5)"
   ]
  }
 ],
 "metadata": {
  "kernelspec": {
   "display_name": "PySpark3",
   "language": "",
   "name": "pyspark3kernel"
  },
  "language_info": {
   "codemirror_mode": {
    "name": "python",
    "version": 3
   },
   "mimetype": "text/x-python",
   "name": "pyspark3",
   "pygments_lexer": "python3"
  }
 },
 "nbformat": 4,
 "nbformat_minor": 2
}
